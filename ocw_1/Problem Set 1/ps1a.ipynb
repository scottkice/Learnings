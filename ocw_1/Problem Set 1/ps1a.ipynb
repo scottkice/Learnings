{
 "cells": [
  {
   "cell_type": "code",
   "execution_count": 20,
   "id": "ae8bb37c-fec8-4032-a75e-751cf8b52e33",
   "metadata": {},
   "outputs": [
    {
     "name": "stdin",
     "output_type": "stream",
     "text": [
      "Enter your annual salary: 80000\n",
      "Enter the percent of your salary to save, as a decimal: .15\n",
      "Enter the cost of your dream home: 500000\n"
     ]
    },
    {
     "name": "stdout",
     "output_type": "stream",
     "text": [
      "Number of months: 105\n"
     ]
    }
   ],
   "source": [
    "annual_salary = float(input(\"Enter your annual salary:\"))\n",
    "portion_saved = float(input(\"Enter the percent of your salary to save, as a decimal:\"))\n",
    "total_cost = float(input(\"Enter the cost of your dream home:\"))\n",
    "\n",
    "portion_down_payment = .25\n",
    "r = .04\n",
    "down_pmt_amt = portion_down_payment * total_cost\n",
    "\n",
    "current_savings = float(0)\n",
    "month_count = 0\n",
    "while current_savings < down_pmt_amt:\n",
    "    month_count += 1\n",
    "    current_savings = (current_savings * (1 + (r/12))) + (annual_salary / 12 * portion_saved)\n",
    "    #print(\"month: \" + str(month_count))\n",
    "    #print(\"savings: \" + str(current_savings))\n",
    "print(\"Number of months: \" + str(month_count))"
   ]
  },
  {
   "cell_type": "code",
   "execution_count": null,
   "id": "7f765e5c-187f-4ca9-ac12-34201eb9305b",
   "metadata": {},
   "outputs": [],
   "source": []
  }
 ],
 "metadata": {
  "kernelspec": {
   "display_name": "Python 3 (ipykernel)",
   "language": "python",
   "name": "python3"
  },
  "language_info": {
   "codemirror_mode": {
    "name": "ipython",
    "version": 3
   },
   "file_extension": ".py",
   "mimetype": "text/x-python",
   "name": "python",
   "nbconvert_exporter": "python",
   "pygments_lexer": "ipython3",
   "version": "3.9.12"
  }
 },
 "nbformat": 4,
 "nbformat_minor": 5
}
