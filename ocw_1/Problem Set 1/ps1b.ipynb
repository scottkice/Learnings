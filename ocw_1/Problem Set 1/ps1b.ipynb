{
 "cells": [
  {
   "cell_type": "code",
   "execution_count": 5,
   "id": "ae8bb37c-fec8-4032-a75e-751cf8b52e33",
   "metadata": {},
   "outputs": [
    {
     "name": "stdin",
     "output_type": "stream",
     "text": [
      "Enter your starting annual salary: 75000\n",
      "Enter the percent of your salary to save, as a decimal: .05\n",
      "Enter the cost of your dream home: 1500000\n",
      "Enter the semi-annual raise, as a decimal: .05\n"
     ]
    },
    {
     "name": "stdout",
     "output_type": "stream",
     "text": [
      "Number of months: 261\n"
     ]
    }
   ],
   "source": [
    "annual_salary = float(input(\"Enter your starting annual salary:\"))\n",
    "portion_saved = float(input(\"Enter the percent of your salary to save, as a decimal:\"))\n",
    "total_cost = float(input(\"Enter the cost of your dream home:\"))\n",
    "semi_annual_raise = float(input(\"Enter the semi-annual raise, as a decimal:\"))\n",
    "\n",
    "portion_down_payment = .25\n",
    "r = .04\n",
    "down_pmt_amt = portion_down_payment * total_cost\n",
    "\n",
    "current_savings = float(0)\n",
    "month_count = 0\n",
    "while current_savings < down_pmt_amt:\n",
    "    month_count += 1\n",
    "    current_savings = (current_savings * (1 + (r/12))) + (annual_salary / 12 * portion_saved)\n",
    "    #print(\"month: \" + str(month_count))\n",
    "    #print(\"savings: \" + str(current_savings))\n",
    "    if month_count % 6 == 0:\n",
    "        annual_salary = annual_salary * (1 + semi_annual_raise)\n",
    "        #print(\"new salary after month \" + str(month_count) + \" is: \" + str(annual_salary))\n",
    "print(\"Number of months: \" + str(month_count))"
   ]
  },
  {
   "cell_type": "code",
   "execution_count": null,
   "id": "7a20f118-8062-4b8c-b3f8-43d54f82f8e5",
   "metadata": {},
   "outputs": [],
   "source": []
  }
 ],
 "metadata": {
  "kernelspec": {
   "display_name": "Python 3 (ipykernel)",
   "language": "python",
   "name": "python3"
  },
  "language_info": {
   "codemirror_mode": {
    "name": "ipython",
    "version": 3
   },
   "file_extension": ".py",
   "mimetype": "text/x-python",
   "name": "python",
   "nbconvert_exporter": "python",
   "pygments_lexer": "ipython3",
   "version": "3.9.12"
  }
 },
 "nbformat": 4,
 "nbformat_minor": 5
}
