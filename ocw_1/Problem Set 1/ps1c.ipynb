{
 "cells": [
  {
   "cell_type": "code",
   "execution_count": null,
   "id": "82bad4ed-9305-465c-9709-ad590daa27e5",
   "metadata": {},
   "outputs": [],
   "source": []
  },
  {
   "cell_type": "code",
   "execution_count": 26,
   "id": "2ac59920-0ff1-458f-82b8-7602d32232a7",
   "metadata": {},
   "outputs": [
    {
     "name": "stdin",
     "output_type": "stream",
     "text": [
      "Enter your starting annual salary: 10000\n"
     ]
    },
    {
     "name": "stdout",
     "output_type": "stream",
     "text": [
      "It is not possible to pay the down payment in 36 months.\n"
     ]
    }
   ],
   "source": [
    "\"\"\"\n",
    "define a function called savings_calculator which should receive starting salary, savings %, semi_annual raise %, \n",
    "investment return, # of months to save, and which will return the total amount saved\n",
    "\n",
    "then, call the function within the while loop for the bisection search and determine if the savings amount \n",
    "is high, low, or within the epsilon amount\n",
    "\"\"\"\n",
    "\n",
    "def savings_calc(annual_salary, portion_saved, semi_annual_raise, r, num_months):\n",
    "    \"\"\"\n",
    "    annual salary is the initial salary amount, portion saved is the % of the salary saved, semi annual raise is \n",
    "    a decimal indicating the percentage of the salary saved, r is the annual investment return, and num_months is the \n",
    "    total number of months in the savings period.  Function returns the total amount saved\n",
    "    \"\"\"\n",
    "    current_savings = float(0)\n",
    "    month_count = 0\n",
    "    while month_count < num_months:\n",
    "        month_count += 1\n",
    "        current_savings = (current_savings * (1 + (r/12))) + (annual_salary / 12 * portion_saved)\n",
    "        #print(\"month: \" + str(month_count))\n",
    "        #print(\"savings: \" + str(current_savings))\n",
    "        if month_count % 6 == 0:\n",
    "            annual_salary = annual_salary * (1 + semi_annual_raise)\n",
    "            #print(\"new salary after month \" + str(month_count) + \" is: \" + str(annual_salary))\n",
    "    return current_savings\n",
    "\n",
    "annual_salary = float(input(\"Enter your starting annual salary:\"))\n",
    "#portion_saved = float(input(\"Enter the percent of your salary to save, as a decimal:\"))\n",
    "total_cost = float(1000000)\n",
    "semi_annual_raise = float(.07)\n",
    "portion_down_payment = .25\n",
    "r = .04\n",
    "num_months = 36\n",
    "down_pmt_amt = portion_down_payment * total_cost\n",
    "epsilon = float(100)\n",
    "num_guesses = 1\n",
    "low = 0\n",
    "high = 10000\n",
    "guess = (low + high)/2\n",
    "portion_saved = guess/10000\n",
    "\n",
    "#check to see if the savings goal is even attainable if 100% of salary is saved\n",
    "max_savings = savings_calc(annual_salary, 1, semi_annual_raise, r, num_months)\n",
    "if max_savings < (down_pmt_amt - epsilon):\n",
    "    print(\"It is not possible to pay the down payment in \" + str(num_months) + \" months.\")\n",
    "else:\n",
    "    total_savings = savings_calc(annual_salary, portion_saved, semi_annual_raise, r, num_months)\n",
    "    while abs(total_savings - down_pmt_amt) > epsilon:\n",
    "        if total_savings > down_pmt_amt:\n",
    "            #print(portion_saved)\n",
    "            #print(total_savings)\n",
    "            high = guess\n",
    "        else:\n",
    "            #print(portion_saved)\n",
    "            #print(total_savings)\n",
    "            low = guess\n",
    "        guess = (low + high)/2\n",
    "        num_guesses += 1\n",
    "        portion_saved = guess/10000\n",
    "        total_savings = savings_calc(annual_salary, portion_saved, semi_annual_raise, r, num_months)\n",
    "    print(\"Best savings rate: \" + str(round(portion_saved, 4)))\n",
    "    print(\"Steps in bisection search: \" + str(num_guesses))\n"
   ]
  },
  {
   "cell_type": "code",
   "execution_count": 10,
   "id": "298d850f-c308-4f7a-8c1d-48aef335b5ac",
   "metadata": {},
   "outputs": [
    {
     "name": "stdin",
     "output_type": "stream",
     "text": [
      "Enter your starting annual salary: 120000\n",
      "Enter the percent of your salary to save, as a decimal: .05\n"
     ]
    }
   ],
   "source": [
    "annual_salary = float(input(\"Enter your starting annual salary:\"))\n",
    "portion_saved = float(input(\"Enter the percent of your salary to save, as a decimal:\"))\n",
    "semi_annual_raise = float(.07)\n",
    "r = .04\n",
    "num_months = 36"
   ]
  },
  {
   "cell_type": "code",
   "execution_count": 12,
   "id": "7a20f118-8062-4b8c-b3f8-43d54f82f8e5",
   "metadata": {},
   "outputs": [],
   "source": [
    "total_savings = savings_calc(annual_salary, portion_saved, semi_annual_raise, r, num_months)"
   ]
  },
  {
   "cell_type": "code",
   "execution_count": 13,
   "id": "8c8029e9-e421-4b2d-99d9-07a1d3ed8d6e",
   "metadata": {},
   "outputs": [
    {
     "name": "stdout",
     "output_type": "stream",
     "text": [
      "20545.776854009237\n"
     ]
    }
   ],
   "source": [
    "print(total_savings)"
   ]
  },
  {
   "cell_type": "code",
   "execution_count": null,
   "id": "831bae6a-b78c-4327-a13d-d6401938ffd9",
   "metadata": {},
   "outputs": [],
   "source": []
  }
 ],
 "metadata": {
  "kernelspec": {
   "display_name": "Python 3 (ipykernel)",
   "language": "python",
   "name": "python3"
  },
  "language_info": {
   "codemirror_mode": {
    "name": "ipython",
    "version": 3
   },
   "file_extension": ".py",
   "mimetype": "text/x-python",
   "name": "python",
   "nbconvert_exporter": "python",
   "pygments_lexer": "ipython3",
   "version": "3.9.12"
  }
 },
 "nbformat": 4,
 "nbformat_minor": 5
}
