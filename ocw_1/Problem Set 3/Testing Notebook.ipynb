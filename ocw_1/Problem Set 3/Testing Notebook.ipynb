{
 "cells": [
  {
   "cell_type": "code",
   "execution_count": 369,
   "id": "32e77b5d-14c0-4071-9ea9-0a652627fbc0",
   "metadata": {},
   "outputs": [
    {
     "name": "stdout",
     "output_type": "stream",
     "text": [
      "Loading word list from file...\n",
      "   83667 words loaded.\n"
     ]
    },
    {
     "name": "stdin",
     "output_type": "stream",
     "text": [
      "Enter total number of hands to play: 2\n"
     ]
    },
    {
     "name": "stdout",
     "output_type": "stream",
     "text": [
      "Current hand: * u e k z q j \n"
     ]
    },
    {
     "name": "stdin",
     "output_type": "stream",
     "text": [
      "Would you like to substitute a letter? Enter yes or no: yes\n",
      "Which letter would you like to replace? j\n"
     ]
    },
    {
     "name": "stdout",
     "output_type": "stream",
     "text": [
      "\n",
      "Current hand: * u e k z q t \n"
     ]
    },
    {
     "name": "stdin",
     "output_type": "stream",
     "text": [
      "Enter word, or \"!!\" to indicate that you are finished: qu*z\n"
     ]
    },
    {
     "name": "stdout",
     "output_type": "stream",
     "text": [
      "\"qu*z\" earned 399 points. Total: 399 points\n",
      "\n",
      "Current hand: e k t \n"
     ]
    },
    {
     "name": "stdin",
     "output_type": "stream",
     "text": [
      "Enter word, or \"!!\" to indicate that you are finished: tek\n"
     ]
    },
    {
     "name": "stdout",
     "output_type": "stream",
     "text": [
      "That is not a valid word. Please choose another word.\n",
      "\n",
      "Ran out of letters.\n",
      "Total score for this hand: 399 points\n",
      "----------\n"
     ]
    },
    {
     "name": "stdin",
     "output_type": "stream",
     "text": [
      "Would you like to replay the hand? Enter yes or no: yes\n"
     ]
    },
    {
     "name": "stdout",
     "output_type": "stream",
     "text": [
      "Current hand: * u e k z q t \n"
     ]
    },
    {
     "name": "stdin",
     "output_type": "stream",
     "text": [
      "Enter word, or \"!!\" to indicate that you are finished: ket\n"
     ]
    },
    {
     "name": "stdout",
     "output_type": "stream",
     "text": [
      "That is not a valid word. Please choose another word.\n",
      "\n",
      "Current hand: * u z q \n"
     ]
    },
    {
     "name": "stdin",
     "output_type": "stream",
     "text": [
      "Enter word, or \"!!\" to indicate that you are finished: qu*z\n"
     ]
    },
    {
     "name": "stdout",
     "output_type": "stream",
     "text": [
      "\"qu*z\" earned 588 points. Total: 588 points\n",
      "\n",
      "Ran out of letters.\n",
      "Total score for this hand: 588 points\n",
      "----------\n",
      "Current hand: * a u w s r v \n",
      "\n",
      "Current hand: * a u w s r v \n"
     ]
    },
    {
     "name": "stdin",
     "output_type": "stream",
     "text": [
      "Enter word, or \"!!\" to indicate that you are finished: vu\n"
     ]
    },
    {
     "name": "stdout",
     "output_type": "stream",
     "text": [
      "That is not a valid word. Please choose another word.\n",
      "\n",
      "Current hand: * a w s r \n"
     ]
    },
    {
     "name": "stdin",
     "output_type": "stream",
     "text": [
      "Enter word, or \"!!\" to indicate that you are finished: sw*ar\n"
     ]
    },
    {
     "name": "stdout",
     "output_type": "stream",
     "text": [
      "\"sw*ar\" earned 245 points. Total: 245 points\n",
      "\n",
      "Ran out of letters.\n",
      "Total score for this hand: 245 points\n",
      "----------\n",
      "Total score over all hands: 833\n"
     ]
    }
   ],
   "source": [
    "%run ps3.py"
   ]
  },
  {
   "cell_type": "code",
   "execution_count": 371,
   "id": "a13ba51a-8d59-4452-8386-51e0881ec8f9",
   "metadata": {},
   "outputs": [
    {
     "name": "stdout",
     "output_type": "stream",
     "text": [
      "Loading word list from file...\n",
      "   83667 words loaded.\n",
      "----------------------------------------------------------------------\n",
      "Testing get_word_score...\n",
      "SUCCESS: test_get_word_score()\n",
      "----------------------------------------------------------------------\n",
      "Testing update_hand...\n",
      "SUCCESS: test_update_hand()\n",
      "----------------------------------------------------------------------\n",
      "Testing is_valid_word...\n",
      "True\n",
      "True\n",
      "True\n",
      "True\n",
      "True\n",
      "True\n",
      "True\n",
      "SUCCESS: test_is_valid_word()\n",
      "----------------------------------------------------------------------\n",
      "Testing wildcards...\n",
      "False\n",
      "True\n",
      "True\n",
      "False\n",
      "SUCCESS: test_wildcard()\n",
      "All done!\n"
     ]
    }
   ],
   "source": [
    "%run test_ps3.py"
   ]
  }
 ],
 "metadata": {
  "kernelspec": {
   "display_name": "Python 3 (ipykernel)",
   "language": "python",
   "name": "python3"
  },
  "language_info": {
   "codemirror_mode": {
    "name": "ipython",
    "version": 3
   },
   "file_extension": ".py",
   "mimetype": "text/x-python",
   "name": "python",
   "nbconvert_exporter": "python",
   "pygments_lexer": "ipython3",
   "version": "3.9.12"
  }
 },
 "nbformat": 4,
 "nbformat_minor": 5
}
