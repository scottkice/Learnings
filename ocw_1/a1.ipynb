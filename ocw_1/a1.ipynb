{
 "cells": [
  {
   "cell_type": "code",
   "execution_count": 1,
   "id": "446a2a86-25a4-47f0-9ed5-dd5da40f3c03",
   "metadata": {},
   "outputs": [],
   "source": [
    "def raise_to_power(num, val_pow):\n",
    "    return num**val_pow"
   ]
  },
  {
   "cell_type": "code",
   "execution_count": 2,
   "id": "06eacee1-224e-44f0-b698-b06c2629a992",
   "metadata": {},
   "outputs": [
    {
     "name": "stdout",
     "output_type": "stream",
     "text": [
      "8\n"
     ]
    }
   ],
   "source": [
    "print(raise_to_power(2,3))"
   ]
  },
  {
   "cell_type": "code",
   "execution_count": null,
   "id": "524fef3d-fa95-4256-b536-614d74b47331",
   "metadata": {},
   "outputs": [],
   "source": []
  }
 ],
 "metadata": {
  "kernelspec": {
   "display_name": "Python 3 (ipykernel)",
   "language": "python",
   "name": "python3"
  },
  "language_info": {
   "codemirror_mode": {
    "name": "ipython",
    "version": 3
   },
   "file_extension": ".py",
   "mimetype": "text/x-python",
   "name": "python",
   "nbconvert_exporter": "python",
   "pygments_lexer": "ipython3",
   "version": "3.9.12"
  }
 },
 "nbformat": 4,
 "nbformat_minor": 5
}
