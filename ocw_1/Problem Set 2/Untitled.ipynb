{
 "cells": [
  {
   "cell_type": "code",
   "execution_count": 278,
   "id": "6aa76386-d7dd-45ec-ab7e-35df66785c5d",
   "metadata": {},
   "outputs": [
    {
     "name": "stdout",
     "output_type": "stream",
     "text": [
      "No matches found\n"
     ]
    }
   ],
   "source": [
    "show_possible_matches(\"t__t\")"
   ]
  },
  {
   "cell_type": "code",
   "execution_count": 288,
   "id": "d8ba59e7-4de9-4109-90a3-f9954e18d8be",
   "metadata": {},
   "outputs": [
    {
     "name": "stdout",
     "output_type": "stream",
     "text": [
      "Loading word list from file...\n",
      "   55900 words loaded.\n",
      "Welcome to the game Hangman!\n",
      "I am thinking of a word that is 8 letters long.\n",
      "Guessing an incorrect consonant will cost you one guess.  Guessing an incorrect vowel will cost two guesses.\n",
      "To view all possible word matches, enter *\n",
      "-------------\n",
      "You have 6 guesses left.\n",
      "Available letters: abcdefghijklmnopqrstuvwxyz\n"
     ]
    },
    {
     "name": "stdin",
     "output_type": "stream",
     "text": [
      "Please guess a letter: a\n"
     ]
    },
    {
     "name": "stdout",
     "output_type": "stream",
     "text": [
      "Oops! That letter is not in my word: _ _ _ _ _ _ _ _\n",
      "------------\n",
      "You have 4 guesses left.\n",
      "Available letters: bcdefghijklmnopqrstuvwxyz\n"
     ]
    },
    {
     "name": "stdin",
     "output_type": "stream",
     "text": [
      "Please guess a letter: e\n"
     ]
    },
    {
     "name": "stdout",
     "output_type": "stream",
     "text": [
      "Good guess: _ _ e_ _ _ _ _\n",
      "------------\n",
      "You have 4 guesses left.\n",
      "Available letters: bcdfghijklmnopqrstuvwxyz\n"
     ]
    },
    {
     "name": "stdin",
     "output_type": "stream",
     "text": [
      "Please guess a letter: i\n"
     ]
    },
    {
     "name": "stdout",
     "output_type": "stream",
     "text": [
      "Oops! That letter is not in my word: _ _ e_ _ _ _ _\n",
      "------------\n",
      "You have 2 guesses left.\n",
      "Available letters: bcdfghjklmnopqrstuvwxyz\n"
     ]
    },
    {
     "name": "stdin",
     "output_type": "stream",
     "text": [
      "Please guess a letter: r\n"
     ]
    },
    {
     "name": "stdout",
     "output_type": "stream",
     "text": [
      "Good guess: _ _ e_ _ r_ _\n",
      "------------\n",
      "You have 2 guesses left.\n",
      "Available letters: bcdfghjklmnopqstuvwxyz\n"
     ]
    },
    {
     "name": "stdin",
     "output_type": "stream",
     "text": [
      "Please guess a letter: s\n"
     ]
    },
    {
     "name": "stdout",
     "output_type": "stream",
     "text": [
      "Good guess: s_ e_ _ r_ _\n",
      "------------\n",
      "You have 2 guesses left.\n",
      "Available letters: bcdfghjklmnopqtuvwxyz\n"
     ]
    },
    {
     "name": "stdin",
     "output_type": "stream",
     "text": [
      "Please guess a letter: t\n"
     ]
    },
    {
     "name": "stdout",
     "output_type": "stream",
     "text": [
      "Good guess: s_ e_ tr_ _\n",
      "------------\n",
      "You have 2 guesses left.\n",
      "Available letters: bcdfghjklmnopquvwxyz\n"
     ]
    },
    {
     "name": "stdin",
     "output_type": "stream",
     "text": [
      "Please guess a letter: o\n"
     ]
    },
    {
     "name": "stdout",
     "output_type": "stream",
     "text": [
      "Oops! That letter is not in my word: s_ e_ tr_ _\n",
      "------------\n",
      "Sorry, you ran out of guesses. The word was spectrum.\n"
     ]
    }
   ],
   "source": [
    "%run hangman.py"
   ]
  },
  {
   "cell_type": "code",
   "execution_count": 262,
   "id": "bae810a9-86c9-4da0-8603-4f9897d722c8",
   "metadata": {},
   "outputs": [
    {
     "data": {
      "text/plain": [
       "list"
      ]
     },
     "execution_count": 262,
     "metadata": {},
     "output_type": "execute_result"
    }
   ],
   "source": [
    "type(wordlist)"
   ]
  },
  {
   "cell_type": "code",
   "execution_count": 274,
   "id": "dd38996d-fefc-402b-8f09-767bf899e965",
   "metadata": {},
   "outputs": [
    {
     "name": "stdout",
     "output_type": "stream",
     "text": [
      "No valid matches\n"
     ]
    }
   ],
   "source": [
    "for i in range(0, len(wordlist)):\n",
    "    count = 0\n",
    "    if match_with_gaps(\"t__t\", wordlist[i]):\n",
    "        count += 1\n",
    "        print(wordlist[i], end=\" \")\n",
    "if count == 0:\n",
    "    print(\"No matches found\")"
   ]
  },
  {
   "cell_type": "code",
   "execution_count": 12,
   "id": "d1147df9-e192-43a1-a4cb-cd91d4922095",
   "metadata": {},
   "outputs": [],
   "source": [
    "secret_word = \"smellypx\""
   ]
  },
  {
   "cell_type": "code",
   "execution_count": 13,
   "id": "277bf942-306e-439c-8809-ee94da09e0fe",
   "metadata": {},
   "outputs": [],
   "source": [
    "letters_guessed = \"abcsmpls\""
   ]
  },
  {
   "cell_type": "code",
   "execution_count": 14,
   "id": "1f866696-e2d0-4f68-9d66-82df21d29827",
   "metadata": {},
   "outputs": [],
   "source": [
    "def is_word_guessed(secret_word, letters_guessed):\n",
    "    for letter in secret_word:\n",
    "        match = False\n",
    "        for character in letters_guessed:\n",
    "            if letter == character:\n",
    "                match = True\n",
    "        if match != True:\n",
    "            break\n",
    "    return match"
   ]
  },
  {
   "cell_type": "code",
   "execution_count": 15,
   "id": "8f3cc3ab-be79-4ac1-a59f-4382f7c73e32",
   "metadata": {},
   "outputs": [
    {
     "data": {
      "text/plain": [
       "False"
      ]
     },
     "execution_count": 15,
     "metadata": {},
     "output_type": "execute_result"
    }
   ],
   "source": [
    "is_word_guessed(secret_word, letters_guessed)"
   ]
  },
  {
   "cell_type": "code",
   "execution_count": 16,
   "id": "1599e574-7711-411d-805a-094a21778fc7",
   "metadata": {},
   "outputs": [],
   "source": [
    "def get_guessed_word(secret_word, letters_guessed):\n",
    "    word_chain = \"\"\n",
    "    for letter in secret_word:\n",
    "        match = False\n",
    "        for character in letters_guessed:\n",
    "            if letter == character:\n",
    "                match = True\n",
    "                word_chain += letter\n",
    "                break\n",
    "        if match != True:\n",
    "            word_chain += \"_ \"\n",
    "    if word_chain[-1] == \" \":\n",
    "        word_chain = word_chain.rstrip(word_chain[-1])\n",
    "    return word_chain"
   ]
  },
  {
   "cell_type": "code",
   "execution_count": 17,
   "id": "d58fb49f-271a-440f-af83-df737a965b41",
   "metadata": {},
   "outputs": [
    {
     "data": {
      "text/plain": [
       "'sm_ ll_ p_'"
      ]
     },
     "execution_count": 17,
     "metadata": {},
     "output_type": "execute_result"
    }
   ],
   "source": [
    "get_guessed_word(secret_word, letters_guessed)"
   ]
  },
  {
   "cell_type": "code",
   "execution_count": 20,
   "id": "8be02ee8-9ee4-484b-9d20-1c253f672826",
   "metadata": {},
   "outputs": [
    {
     "name": "stdout",
     "output_type": "stream",
     "text": [
      "abcdefghijklmnopqrstuvwxyz\n"
     ]
    }
   ],
   "source": [
    "print(string.ascii_lowercase)"
   ]
  },
  {
   "cell_type": "code",
   "execution_count": 32,
   "id": "a029d402-7a02-4ce2-a772-e18ff963c4d9",
   "metadata": {},
   "outputs": [],
   "source": [
    "def get_available_letters(letters_guessed):\n",
    "    available_letters = \"\"\n",
    "    for i in range(26):\n",
    "        match = False\n",
    "        for character in letters_guessed:\n",
    "            if string.ascii_lowercase[i] == character:\n",
    "                match = True\n",
    "                break\n",
    "        if match != True:    \n",
    "            available_letters += string.ascii_lowercase[i]\n",
    "    return available_letters"
   ]
  },
  {
   "cell_type": "code",
   "execution_count": 36,
   "id": "5fa72c37-c177-4753-8ae6-bfc5aa14b898",
   "metadata": {},
   "outputs": [
    {
     "data": {
      "text/plain": [
       "'abcdefghijklmnoprstuvwxyz'"
      ]
     },
     "execution_count": 36,
     "metadata": {},
     "output_type": "execute_result"
    }
   ],
   "source": [
    "get_available_letters(\"q\")"
   ]
  },
  {
   "cell_type": "code",
   "execution_count": 146,
   "id": "92256efb-b630-4084-800d-d33880fc3c14",
   "metadata": {},
   "outputs": [
    {
     "name": "stdout",
     "output_type": "stream",
     "text": [
      "Your total score for this game is: 12\n"
     ]
    }
   ],
   "source": [
    "print(\"Your total score for this game is: \" + str(2*6))"
   ]
  },
  {
   "cell_type": "code",
   "execution_count": 149,
   "id": "11f219da-fd8a-4598-adae-1e7a5cb7a32f",
   "metadata": {},
   "outputs": [
    {
     "name": "stdout",
     "output_type": "stream",
     "text": [
      "Sorry, you ran out of guesses. The word was tt.\n"
     ]
    }
   ],
   "source": [
    "print(\"Sorry, you ran out of guesses. The word was \" + secret_word + \".\")"
   ]
  },
  {
   "cell_type": "code",
   "execution_count": 255,
   "id": "561fc5d8-ac55-4a00-a9d0-b1f748fdabe8",
   "metadata": {},
   "outputs": [],
   "source": [
    "def match_with_gaps(my_word, other_word):\n",
    "    complete_match = True\n",
    "    trimmed = my_word.replace(\" \",\"\")\n",
    "    if len(trimmed) != len(other_word):\n",
    "        complete_match = False\n",
    "        return complete_match\n",
    "    for char in range(0, len(trimmed)):\n",
    "        if trimmed[char] != \"_\":\n",
    "            if trimmed[char] != other_word[char]:\n",
    "                complete_match = False\n",
    "                return complete_match\n",
    "        else:\n",
    "            if other_word[char] in trimmed:\n",
    "                complete_match = False\n",
    "                return complete_match\n",
    "    return complete_match"
   ]
  },
  {
   "cell_type": "code",
   "execution_count": 171,
   "id": "3052e18c-b76a-4326-a0bf-8441436163de",
   "metadata": {},
   "outputs": [],
   "source": [
    "sample = \"a _ _ b _ c _ \""
   ]
  },
  {
   "cell_type": "code",
   "execution_count": 172,
   "id": "bbf894ce-04a8-4bbe-9608-092fb6718ff7",
   "metadata": {},
   "outputs": [],
   "source": [
    "x = sample.strip(_)"
   ]
  },
  {
   "cell_type": "code",
   "execution_count": 257,
   "id": "9a0ddfed-4143-4211-9b94-cd966d80a5f6",
   "metadata": {},
   "outputs": [
    {
     "data": {
      "text/plain": [
       "False"
      ]
     },
     "execution_count": 257,
     "metadata": {},
     "output_type": "execute_result"
    }
   ],
   "source": [
    "match_with_gaps(\"ap_le\", \"apple\")"
   ]
  },
  {
   "cell_type": "code",
   "execution_count": 181,
   "id": "5bd49652-3603-42d0-a79f-166ea84c1a04",
   "metadata": {},
   "outputs": [],
   "source": [
    "ra = match_with_gaps(\"a _ _ b _ c _ \", \"word\")"
   ]
  },
  {
   "cell_type": "code",
   "execution_count": 180,
   "id": "36a4d9ce-9951-4785-b64c-9fc505a4be74",
   "metadata": {},
   "outputs": [
    {
     "name": "stdout",
     "output_type": "stream",
     "text": [
      "<class 'bool'>\n"
     ]
    }
   ],
   "source": [
    "print(bool)"
   ]
  },
  {
   "cell_type": "code",
   "execution_count": 182,
   "id": "7cc94fa3-358f-4f5e-9500-3c100a7ace3a",
   "metadata": {},
   "outputs": [
    {
     "name": "stdout",
     "output_type": "stream",
     "text": [
      "False\n"
     ]
    }
   ],
   "source": [
    "print(ra)"
   ]
  }
 ],
 "metadata": {
  "kernelspec": {
   "display_name": "Python 3 (ipykernel)",
   "language": "python",
   "name": "python3"
  },
  "language_info": {
   "codemirror_mode": {
    "name": "ipython",
    "version": 3
   },
   "file_extension": ".py",
   "mimetype": "text/x-python",
   "name": "python",
   "nbconvert_exporter": "python",
   "pygments_lexer": "ipython3",
   "version": "3.9.12"
  }
 },
 "nbformat": 4,
 "nbformat_minor": 5
}
