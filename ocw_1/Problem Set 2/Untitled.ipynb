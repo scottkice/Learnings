{
 "cells": [
  {
   "cell_type": "code",
   "execution_count": 288,
   "id": "d8ba59e7-4de9-4109-90a3-f9954e18d8be",
   "metadata": {},
   "outputs": [
    {
     "name": "stdout",
     "output_type": "stream",
     "text": [
      "Loading word list from file...\n",
      "   55900 words loaded.\n",
      "Welcome to the game Hangman!\n",
      "I am thinking of a word that is 8 letters long.\n",
      "Guessing an incorrect consonant will cost you one guess.  Guessing an incorrect vowel will cost two guesses.\n",
      "To view all possible word matches, enter *\n",
      "-------------\n",
      "You have 6 guesses left.\n",
      "Available letters: abcdefghijklmnopqrstuvwxyz\n"
     ]
    },
    {
     "name": "stdin",
     "output_type": "stream",
     "text": [
      "Please guess a letter: a\n"
     ]
    },
    {
     "name": "stdout",
     "output_type": "stream",
     "text": [
      "Oops! That letter is not in my word: _ _ _ _ _ _ _ _\n",
      "------------\n",
      "You have 4 guesses left.\n",
      "Available letters: bcdefghijklmnopqrstuvwxyz\n"
     ]
    },
    {
     "name": "stdin",
     "output_type": "stream",
     "text": [
      "Please guess a letter: e\n"
     ]
    },
    {
     "name": "stdout",
     "output_type": "stream",
     "text": [
      "Good guess: _ _ e_ _ _ _ _\n",
      "------------\n",
      "You have 4 guesses left.\n",
      "Available letters: bcdfghijklmnopqrstuvwxyz\n"
     ]
    },
    {
     "name": "stdin",
     "output_type": "stream",
     "text": [
      "Please guess a letter: i\n"
     ]
    },
    {
     "name": "stdout",
     "output_type": "stream",
     "text": [
      "Oops! That letter is not in my word: _ _ e_ _ _ _ _\n",
      "------------\n",
      "You have 2 guesses left.\n",
      "Available letters: bcdfghjklmnopqrstuvwxyz\n"
     ]
    },
    {
     "name": "stdin",
     "output_type": "stream",
     "text": [
      "Please guess a letter: r\n"
     ]
    },
    {
     "name": "stdout",
     "output_type": "stream",
     "text": [
      "Good guess: _ _ e_ _ r_ _\n",
      "------------\n",
      "You have 2 guesses left.\n",
      "Available letters: bcdfghjklmnopqstuvwxyz\n"
     ]
    },
    {
     "name": "stdin",
     "output_type": "stream",
     "text": [
      "Please guess a letter: s\n"
     ]
    },
    {
     "name": "stdout",
     "output_type": "stream",
     "text": [
      "Good guess: s_ e_ _ r_ _\n",
      "------------\n",
      "You have 2 guesses left.\n",
      "Available letters: bcdfghjklmnopqtuvwxyz\n"
     ]
    },
    {
     "name": "stdin",
     "output_type": "stream",
     "text": [
      "Please guess a letter: t\n"
     ]
    },
    {
     "name": "stdout",
     "output_type": "stream",
     "text": [
      "Good guess: s_ e_ tr_ _\n",
      "------------\n",
      "You have 2 guesses left.\n",
      "Available letters: bcdfghjklmnopquvwxyz\n"
     ]
    },
    {
     "name": "stdin",
     "output_type": "stream",
     "text": [
      "Please guess a letter: o\n"
     ]
    },
    {
     "name": "stdout",
     "output_type": "stream",
     "text": [
      "Oops! That letter is not in my word: s_ e_ tr_ _\n",
      "------------\n",
      "Sorry, you ran out of guesses. The word was spectrum.\n"
     ]
    }
   ],
   "source": [
    "%run hangman.py"
   ]
  },
  {
   "cell_type": "code",
   "execution_count": 289,
   "id": "1a8c6cd3-6d77-4338-87b6-737424acbf4a",
   "metadata": {},
   "outputs": [
    {
     "name": "stdout",
     "output_type": "stream",
     "text": [
      "Loading word list from file...\n",
      "   55900 words loaded.\n",
      "Welcome to the game Hangman!\n",
      "I am thinking of a word that is 5 letters long.\n",
      "Guessing an incorrect consonant will cost you one guess.  Guessing an incorrect vowel will cost two guesses.\n",
      "To view all possible word matches, enter *\n",
      "-------------\n",
      "You have 6 guesses left.\n",
      "Available letters: abcdefghijklmnopqrstuvwxyz\n"
     ]
    },
    {
     "name": "stdin",
     "output_type": "stream",
     "text": [
      "Please guess a letter: s\n"
     ]
    },
    {
     "name": "stdout",
     "output_type": "stream",
     "text": [
      "Oops! That letter is not in my word: _ _ _ _ _\n",
      "------------\n",
      "You have 5 guesses left.\n",
      "Available letters: abcdefghijklmnopqrtuvwxyz\n"
     ]
    },
    {
     "name": "stdin",
     "output_type": "stream",
     "text": [
      "Please guess a letter: r\n"
     ]
    },
    {
     "name": "stdout",
     "output_type": "stream",
     "text": [
      "Good guess: _ _ r_ _\n",
      "------------\n",
      "You have 5 guesses left.\n",
      "Available letters: abcdefghijklmnopqtuvwxyz\n"
     ]
    },
    {
     "name": "stdin",
     "output_type": "stream",
     "text": [
      "Please guess a letter: t\n"
     ]
    },
    {
     "name": "stdout",
     "output_type": "stream",
     "text": [
      "Oops! That letter is not in my word: _ _ r_ _\n",
      "------------\n",
      "You have 4 guesses left.\n",
      "Available letters: abcdefghijklmnopquvwxyz\n"
     ]
    },
    {
     "name": "stdin",
     "output_type": "stream",
     "text": [
      "Please guess a letter: m\n"
     ]
    },
    {
     "name": "stdout",
     "output_type": "stream",
     "text": [
      "Good guess: m_ r_ _\n",
      "------------\n",
      "You have 4 guesses left.\n",
      "Available letters: abcdefghijklnopquvwxyz\n"
     ]
    },
    {
     "name": "stdin",
     "output_type": "stream",
     "text": [
      "Please guess a letter: a\n"
     ]
    },
    {
     "name": "stdout",
     "output_type": "stream",
     "text": [
      "Good guess: mar_ _\n",
      "------------\n",
      "You have 4 guesses left.\n",
      "Available letters: bcdefghijklnopquvwxyz\n"
     ]
    },
    {
     "name": "stdin",
     "output_type": "stream",
     "text": [
      "Please guess a letter: c\n"
     ]
    },
    {
     "name": "stdout",
     "output_type": "stream",
     "text": [
      "Good guess: marc_\n",
      "------------\n",
      "You have 4 guesses left.\n",
      "Available letters: bdefghijklnopquvwxyz\n"
     ]
    },
    {
     "name": "stdin",
     "output_type": "stream",
     "text": [
      "Please guess a letter: h\n"
     ]
    },
    {
     "name": "stdout",
     "output_type": "stream",
     "text": [
      "Good guess: march\n",
      "------------\n",
      "Congratulations, you won!\n",
      "Your total score for this game is: 20\n"
     ]
    }
   ],
   "source": [
    "%run hangman.py"
   ]
  },
  {
   "cell_type": "code",
   "execution_count": null,
   "id": "54e69ef1-76b9-4e24-949d-2d07286104ad",
   "metadata": {},
   "outputs": [],
   "source": []
  }
 ],
 "metadata": {
  "kernelspec": {
   "display_name": "Python 3 (ipykernel)",
   "language": "python",
   "name": "python3"
  },
  "language_info": {
   "codemirror_mode": {
    "name": "ipython",
    "version": 3
   },
   "file_extension": ".py",
   "mimetype": "text/x-python",
   "name": "python",
   "nbconvert_exporter": "python",
   "pygments_lexer": "ipython3",
   "version": "3.9.12"
  }
 },
 "nbformat": 4,
 "nbformat_minor": 5
}
